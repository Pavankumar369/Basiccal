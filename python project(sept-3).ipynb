{
 "cells": [
  {
   "cell_type": "code",
   "execution_count": 1,
   "id": "00568c15",
   "metadata": {},
   "outputs": [
    {
     "ename": "SyntaxError",
     "evalue": "invalid syntax (461687769.py, line 17)",
     "output_type": "error",
     "traceback": [
      "\u001b[1;36m  File \u001b[1;32m\"C:\\Users\\SRINIVAS\\AppData\\Local\\Temp\\ipykernel_7364\\461687769.py\"\u001b[1;36m, line \u001b[1;32m17\u001b[0m\n\u001b[1;33m    if choice in\u001b[0m\n\u001b[1;37m                 ^\u001b[0m\n\u001b[1;31mSyntaxError\u001b[0m\u001b[1;31m:\u001b[0m invalid syntax\n"
     ]
    }
   ],
   "source": [
    "def add(x,y):\n",
    "    return x+y\n",
    "def sub(x,y):\n",
    "    if (x>y):\n",
    "        return x-y\n",
    "    else:\n",
    "        return x+y\n",
    "def mul(x,y):\n",
    "    return x*y\n",
    "def div(x,y):\n",
    "    if y == 0:\n",
    "        return \"non divisible\"\n",
    "    return x/y\n",
    "print(\"select operation\")\n",
    "print(\"1.add\\n2.sub\\n3.mul\\n4.div\")\n",
    "choice = input('1','2','3','4')\n",
    "if choice in \n",
    "        \n"
   ]
  },
  {
   "cell_type": "code",
   "execution_count": 12,
   "id": "9975b404",
   "metadata": {},
   "outputs": [
    {
     "name": "stdout",
     "output_type": "stream",
     "text": [
      "select operation\n",
      "1.add\n",
      "2.sub\n",
      "3.mul\n",
      "4.div\n",
      "enter the choice4\n",
      "first number4\n",
      "second number4\n",
      "result 1.0\n"
     ]
    }
   ],
   "source": [
    "def add(x,y):\n",
    "    return x+y\n",
    "def sub(x,y):\n",
    "    if x>y:\n",
    "        return x-y\n",
    "    return y-x\n",
    "def mul(x,y):\n",
    "    return x*y\n",
    "def div(x,y):\n",
    "    if y ==0:\n",
    "        return \"non divisible\"\n",
    "    return x/y\n",
    "print(\"select operation\")\n",
    "print(\"1.add\\n2.sub\\n3.mul\\n4.div\")\n",
    "choice = input(\"enter the choice\")\n",
    "x = float(input(\"first number\"))\n",
    "y = float(input(\"second number\"))\n",
    "if choice in ('1','2','3','4'):\n",
    "    if choice == '1':\n",
    "        print(\"result\",add(x,y))\n",
    "    elif choice == '2':\n",
    "        print(\"result\",sub(x,y))\n",
    "    elif choice == '3':\n",
    "        print(\"result\",mul(x,y))\n",
    "    elif choice == '4':\n",
    "        print(\"result\",div(x,y))\n",
    "else:\n",
    "    print(\"invalid input\")\n",
    "        "
   ]
  },
  {
   "cell_type": "code",
   "execution_count": null,
   "id": "ce8a10df",
   "metadata": {},
   "outputs": [],
   "source": []
  }
 ],
 "metadata": {
  "kernelspec": {
   "display_name": "Python 3 (ipykernel)",
   "language": "python",
   "name": "python3"
  },
  "language_info": {
   "codemirror_mode": {
    "name": "ipython",
    "version": 3
   },
   "file_extension": ".py",
   "mimetype": "text/x-python",
   "name": "python",
   "nbconvert_exporter": "python",
   "pygments_lexer": "ipython3",
   "version": "3.9.13"
  }
 },
 "nbformat": 4,
 "nbformat_minor": 5
}
